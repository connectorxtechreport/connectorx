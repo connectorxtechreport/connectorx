{
 "cells": [
  {
   "cell_type": "code",
   "execution_count": 2,
   "metadata": {
    "execution": {
     "iopub.execute_input": "2020-10-06T07:48:21.150661Z",
     "iopub.status.busy": "2020-10-06T07:48:21.150409Z",
     "iopub.status.idle": "2020-10-06T07:48:21.155144Z",
     "shell.execute_reply": "2020-10-06T07:48:21.154106Z",
     "shell.execute_reply.started": "2020-10-06T07:48:21.150631Z"
    }
   },
   "outputs": [],
   "source": [
    "import sys\n",
    "sys.path.insert(0, \"..\")"
   ]
  },
  {
   "cell_type": "code",
   "execution_count": 4,
   "metadata": {
    "execution": {
     "iopub.execute_input": "2020-10-06T07:48:28.922269Z",
     "iopub.status.busy": "2020-10-06T07:48:28.922046Z",
     "iopub.status.idle": "2020-10-06T07:48:28.975194Z",
     "shell.execute_reply": "2020-10-06T07:48:28.974263Z",
     "shell.execute_reply.started": "2020-10-06T07:48:28.922243Z"
    }
   },
   "outputs": [],
   "source": [
    "from connectorx.connector.generator import ConfigGeneratorUI"
   ]
  },
  {
   "cell_type": "code",
   "execution_count": 5,
   "metadata": {
    "execution": {
     "iopub.execute_input": "2020-10-06T07:48:39.485249Z",
     "iopub.status.busy": "2020-10-06T07:48:39.484881Z",
     "iopub.status.idle": "2020-10-06T07:48:39.665396Z",
     "shell.execute_reply": "2020-10-06T07:48:39.664468Z",
     "shell.execute_reply.started": "2020-10-06T07:48:39.485215Z"
    }
   },
   "outputs": [
    {
     "data": {
      "application/vnd.jupyter.widget-view+json": {
       "model_id": "28b5adf1c3ba4e63835ad38ad7aa3818",
       "version_major": 2,
       "version_minor": 0
      },
      "text/plain": [
       "GridspecLayout(children=(VBox(children=(HTML(value='<h3 style=\"background-color:#E8E8E8; background-size: 100p…"
      ]
     },
     "metadata": {},
     "output_type": "display_data"
    }
   ],
   "source": [
    "ConfigGeneratorUI().display()"
   ]
  }
 ],
 "metadata": {
  "kernelspec": {
   "display_name": "DataPrep",
   "language": "python",
   "name": "dataprep"
  },
  "language_info": {
   "codemirror_mode": {
    "name": "ipython",
    "version": 3
   },
   "file_extension": ".py",
   "mimetype": "text/x-python",
   "name": "python",
   "nbconvert_exporter": "python",
   "pygments_lexer": "ipython3",
   "version": "3.8.4"
  }
 },
 "nbformat": 4,
 "nbformat_minor": 4
}
