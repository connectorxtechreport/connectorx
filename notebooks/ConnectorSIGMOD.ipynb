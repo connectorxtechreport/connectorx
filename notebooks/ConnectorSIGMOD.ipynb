{
 "cells": [
  {
   "cell_type": "code",
   "execution_count": 1,
   "metadata": {
    "execution": {
     "iopub.execute_input": "2020-10-06T07:30:22.961678Z",
     "iopub.status.busy": "2020-10-06T07:30:22.961414Z",
     "iopub.status.idle": "2020-10-06T07:30:22.975668Z",
     "shell.execute_reply": "2020-10-06T07:30:22.974765Z",
     "shell.execute_reply.started": "2020-10-06T07:30:22.961609Z"
    }
   },
   "outputs": [],
   "source": [
    "%load_ext autoreload\n",
    "%autoreload 2"
   ]
  },
  {
   "cell_type": "code",
   "execution_count": 2,
   "metadata": {
    "execution": {
     "iopub.execute_input": "2020-10-06T07:30:23.290766Z",
     "iopub.status.busy": "2020-10-06T07:30:23.290547Z",
     "iopub.status.idle": "2020-10-06T07:30:23.892293Z",
     "shell.execute_reply": "2020-10-06T07:30:23.891098Z",
     "shell.execute_reply.started": "2020-10-06T07:30:23.290740Z"
    }
   },
   "outputs": [],
   "source": [
    "import sys\n",
    "sys.path.insert(0, \"..\")\n",
    "\n",
    "import asyncio\n",
    "from time import time\n",
    "\n",
    "import altair as alt\n",
    "import numpy as np\n",
    "import pandas as pd\n",
    "from connectorx import Connector\n",
    "from contexttimer import Timer"
   ]
  },
  {
   "cell_type": "code",
   "execution_count": 36,
   "metadata": {
    "execution": {
     "iopub.execute_input": "2020-10-06T07:42:43.025230Z",
     "iopub.status.busy": "2020-10-06T07:42:43.024999Z",
     "iopub.status.idle": "2020-10-06T07:42:43.040732Z",
     "shell.execute_reply": "2020-10-06T07:42:43.040024Z",
     "shell.execute_reply.started": "2020-10-06T07:42:43.025201Z"
    }
   },
   "outputs": [],
   "source": [
    "PALETTE = [\"#bdb8ad\", \"#ece7e0\", \"#c6d4e1\", \"#44749d\"]"
   ]
  },
  {
   "cell_type": "markdown",
   "metadata": {},
   "source": [
    "# Exp1"
   ]
  },
  {
   "cell_type": "code",
   "execution_count": 23,
   "metadata": {
    "execution": {
     "iopub.execute_input": "2020-10-06T07:38:50.098594Z",
     "iopub.status.busy": "2020-10-06T07:38:50.098358Z",
     "iopub.status.idle": "2020-10-06T07:38:50.115866Z",
     "shell.execute_reply": "2020-10-06T07:38:50.114940Z",
     "shell.execute_reply.started": "2020-10-06T07:38:50.098566Z"
    }
   },
   "outputs": [],
   "source": [
    "exp1data = pd.DataFrame(data=None, columns=[\"API\", \"Concurrency\", \"Elapsed\"])"
   ]
  },
  {
   "cell_type": "code",
   "execution_count": null,
   "metadata": {},
   "outputs": [],
   "source": [
    "concurrencies = [1,3,5]\n",
    "repeat = 5"
   ]
  },
  {
   "cell_type": "markdown",
   "metadata": {},
   "source": [
    "### Yelp"
   ]
  },
  {
   "cell_type": "code",
   "execution_count": 27,
   "metadata": {
    "execution": {
     "iopub.execute_input": "2020-10-06T07:39:05.540746Z",
     "iopub.status.busy": "2020-10-06T07:39:05.540496Z",
     "iopub.status.idle": "2020-10-06T07:39:05.553105Z",
     "shell.execute_reply": "2020-10-06T07:39:05.552220Z",
     "shell.execute_reply.started": "2020-10-06T07:39:05.540720Z"
    }
   },
   "outputs": [],
   "source": [
    "yelp_token = \"<your-token>\""
   ]
  },
  {
   "cell_type": "code",
   "execution_count": 30,
   "metadata": {
    "execution": {
     "iopub.execute_input": "2020-10-06T07:40:17.744319Z",
     "iopub.status.busy": "2020-10-06T07:40:17.743974Z",
     "iopub.status.idle": "2020-10-06T07:40:22.808773Z",
     "shell.execute_reply": "2020-10-06T07:40:22.807680Z",
     "shell.execute_reply.started": "2020-10-06T07:40:17.744286Z"
    }
   },
   "outputs": [],
   "source": [
    "for c in concurrencies:\n",
    "    for x in range(repeat):\n",
    "        with Timer() as t:\n",
    "            dc = Connector(\"yelp\", _concurrency=c, _auth={\"access_token\": yelp_token})\n",
    "            await dc.query(\n",
    "                \"businesses\",\n",
    "                term=\"restaurant\",\n",
    "                location=\"vancouver\",\n",
    "                _count=500,\n",
    "            )\n",
    "\n",
    "        exp1data = exp1data.append(\n",
    "            pd.Series([\"yelp\", c, t.elapsed], index=exp1data.columns),\n",
    "            ignore_index=True,\n",
    "        )\n",
    "        await asyncio.sleep(2)"
   ]
  },
  {
   "cell_type": "markdown",
   "metadata": {},
   "source": [
    "### DBLP"
   ]
  },
  {
   "cell_type": "code",
   "execution_count": 32,
   "metadata": {
    "execution": {
     "iopub.execute_input": "2020-10-06T07:42:10.103673Z",
     "iopub.status.busy": "2020-10-06T07:42:10.103314Z",
     "iopub.status.idle": "2020-10-06T07:42:16.566483Z",
     "shell.execute_reply": "2020-10-06T07:42:16.565198Z",
     "shell.execute_reply.started": "2020-10-06T07:42:10.103639Z"
    }
   },
   "outputs": [],
   "source": [
    "for c in concurrencies:\n",
    "    for x in range(repeat):\n",
    "        with Timer() as t:\n",
    "            dc = Connector(\"dblp\", _concurrency=c)\n",
    "            await dc.query(\"publication\", q=\"AI\", _count=10000)\n",
    "            exp1data = exp1data.append(\n",
    "                pd.Series([\"dblp\", c, t.elapsed], index=exp1data.columns),\n",
    "                ignore_index=True,\n",
    "            )\n",
    "\n",
    "            await asyncio.sleep(2)"
   ]
  },
  {
   "cell_type": "markdown",
   "metadata": {},
   "source": [
    "### Spotify"
   ]
  },
  {
   "cell_type": "code",
   "execution_count": 34,
   "metadata": {
    "execution": {
     "iopub.execute_input": "2020-10-06T07:42:21.455465Z",
     "iopub.status.busy": "2020-10-06T07:42:21.455224Z",
     "iopub.status.idle": "2020-10-06T07:42:21.469298Z",
     "shell.execute_reply": "2020-10-06T07:42:21.468175Z",
     "shell.execute_reply.started": "2020-10-06T07:42:21.455437Z"
    }
   },
   "outputs": [],
   "source": [
    "spotify_client_id = \"<your-token>\"\n",
    "spotify_client_secret = \"<your-token>\""
   ]
  },
  {
   "cell_type": "code",
   "execution_count": 35,
   "metadata": {
    "execution": {
     "iopub.execute_input": "2020-10-06T07:42:21.484211Z",
     "iopub.status.busy": "2020-10-06T07:42:21.483995Z",
     "iopub.status.idle": "2020-10-06T07:42:25.782139Z",
     "shell.execute_reply": "2020-10-06T07:42:25.779908Z",
     "shell.execute_reply.started": "2020-10-06T07:42:21.484186Z"
    }
   },
   "outputs": [],
   "source": [
    "for c in concurrencies:\n",
    "    for x in range(repeat):\n",
    "        with Timer() as t:\n",
    "            dc = Connector(\n",
    "                \"spotify\",\n",
    "                _concurrency=c,\n",
    "                _auth={\n",
    "                    \"client_id\": spotify_client_id,\n",
    "                    \"client_secret\": spotify_client_secret,\n",
    "                },\n",
    "            )\n",
    "            await dc.query(\"album\", q=\"love\", _count=500)\n",
    "            exp1data = exp1data.append(\n",
    "                pd.Series([\"spotify\", c, t.elapsed], index=exp1data.columns),\n",
    "                ignore_index=True,\n",
    "            )\n",
    "            await asyncio.sleep(2)"
   ]
  },
  {
   "cell_type": "markdown",
   "metadata": {},
   "source": [
    "### Twitch"
   ]
  },
  {
   "cell_type": "code",
   "execution_count": 10,
   "metadata": {
    "execution": {
     "iopub.execute_input": "2020-10-06T07:03:36.493784Z",
     "iopub.status.busy": "2020-10-06T07:03:36.493574Z",
     "iopub.status.idle": "2020-10-06T07:03:36.505186Z",
     "shell.execute_reply": "2020-10-06T07:03:36.504544Z",
     "shell.execute_reply.started": "2020-10-06T07:03:36.493759Z"
    }
   },
   "outputs": [],
   "source": [
    "twitch_id = \"<your-token>\""
   ]
  },
  {
   "cell_type": "code",
   "execution_count": 12,
   "metadata": {
    "execution": {
     "iopub.execute_input": "2020-10-06T07:03:40.722166Z",
     "iopub.status.busy": "2020-10-06T07:03:40.721924Z",
     "iopub.status.idle": "2020-10-06T07:03:45.086587Z",
     "shell.execute_reply": "2020-10-06T07:03:45.085599Z",
     "shell.execute_reply.started": "2020-10-06T07:03:40.722138Z"
    }
   },
   "outputs": [
    {
     "name": "stdout",
     "output_type": "stream",
     "text": [
      "['twitch', 5, 2.347855629399419]\n"
     ]
    }
   ],
   "source": [
    "for c in concurrencies:\n",
    "    for x in range(repeat):\n",
    "        with Timer() as t:\n",
    "            dc = Connector(\n",
    "                \"twitch\",\n",
    "                _concurrency=c,\n",
    "                _auth={\"access_token\": twitch_id},\n",
    "            )\n",
    "\n",
    "            await dc.query(\"channels\", query=\"star\", _count=1000)\n",
    "            exp1data = exp1data.append(\n",
    "                pd.Series([\"twitch\", c, t.elapsed], index=exp1data.columns),\n",
    "                ignore_index=True,\n",
    "            )\n",
    "            await asyncio.sleep(2)"
   ]
  },
  {
   "cell_type": "markdown",
   "metadata": {},
   "source": [
    "### Bing"
   ]
  },
  {
   "cell_type": "code",
   "execution_count": 4,
   "metadata": {
    "execution": {
     "iopub.execute_input": "2020-10-06T07:30:28.600062Z",
     "iopub.status.busy": "2020-10-06T07:30:28.599848Z",
     "iopub.status.idle": "2020-10-06T07:30:28.612756Z",
     "shell.execute_reply": "2020-10-06T07:30:28.611623Z",
     "shell.execute_reply.started": "2020-10-06T07:30:28.600036Z"
    }
   },
   "outputs": [],
   "source": [
    "azure_token = \"<your-token>\""
   ]
  },
  {
   "cell_type": "code",
   "execution_count": 8,
   "metadata": {
    "execution": {
     "iopub.execute_input": "2020-10-06T07:32:38.752737Z",
     "iopub.status.busy": "2020-10-06T07:32:38.752358Z",
     "iopub.status.idle": "2020-10-06T07:32:45.887117Z",
     "shell.execute_reply": "2020-10-06T07:32:45.886125Z",
     "shell.execute_reply.started": "2020-10-06T07:32:38.752704Z"
    }
   },
   "outputs": [
    {
     "name": "stderr",
     "output_type": "stream",
     "text": [
      "Request failed, decreasing the concurrency level to 2\n"
     ]
    },
    {
     "name": "stdout",
     "output_type": "stream",
     "text": [
      "['azure', 5, 5.064618270844221]\n"
     ]
    }
   ],
   "source": [
    "for c in concurrencies:\n",
    "    for x in range(repeat):\n",
    "        with Timer() as t:\n",
    "            dc = Connector(\n",
    "                \"azure\", _concurrency=c, _auth={\"access_token\": azure_token}\n",
    "            )\n",
    "\n",
    "            await dc.query(\"bing\", q=\"people\", _count=500)\n",
    "            exp1data = exp1data.append(\n",
    "                pd.Series([\"azure\", c, t.elapsed], index=exp1data.columns),\n",
    "                ignore_index=True,\n",
    "            )\n",
    "            await asyncio.sleep(2)\n"
   ]
  },
  {
   "cell_type": "markdown",
   "metadata": {},
   "source": [
    "### Etsy"
   ]
  },
  {
   "cell_type": "code",
   "execution_count": 10,
   "metadata": {
    "execution": {
     "iopub.execute_input": "2020-10-06T07:33:33.877433Z",
     "iopub.status.busy": "2020-10-06T07:33:33.877206Z",
     "iopub.status.idle": "2020-10-06T07:33:33.890560Z",
     "shell.execute_reply": "2020-10-06T07:33:33.889791Z",
     "shell.execute_reply.started": "2020-10-06T07:33:33.877405Z"
    }
   },
   "outputs": [],
   "source": [
    "etsy_token = \"<your-token>\""
   ]
  },
  {
   "cell_type": "code",
   "execution_count": 12,
   "metadata": {
    "execution": {
     "iopub.execute_input": "2020-10-06T07:33:46.986064Z",
     "iopub.status.busy": "2020-10-06T07:33:46.985829Z",
     "iopub.status.idle": "2020-10-06T07:33:52.058462Z",
     "shell.execute_reply": "2020-10-06T07:33:52.057481Z",
     "shell.execute_reply.started": "2020-10-06T07:33:46.986035Z"
    }
   },
   "outputs": [
    {
     "name": "stdout",
     "output_type": "stream",
     "text": [
      "['etsy', 5, 3.0532836578786373]\n"
     ]
    }
   ],
   "source": [
    "for c in concurrencies:\n",
    "    for x in range(repeat):\n",
    "        with Timer() as t:\n",
    "\n",
    "            dc = Connector(\n",
    "                \"Etsy\", _concurrency=c, _auth={\"access_token\": etsy_token}\n",
    "            )\n",
    "            await dc.query(\"search\", keywords=\"ipad\", _count=250)\n",
    "            exp1data = exp1data.append(\n",
    "                pd.Series([\"etsy\", c, t.elapsed], index=exp1data.columns),\n",
    "                ignore_index=True,\n",
    "            )\n",
    "            await asyncio.sleep(2)\n"
   ]
  },
  {
   "cell_type": "markdown",
   "metadata": {},
   "source": [
    "### Wikia"
   ]
  },
  {
   "cell_type": "code",
   "execution_count": 13,
   "metadata": {
    "execution": {
     "iopub.execute_input": "2020-10-06T07:33:55.827769Z",
     "iopub.status.busy": "2020-10-06T07:33:55.827542Z",
     "iopub.status.idle": "2020-10-06T07:34:00.253591Z",
     "shell.execute_reply": "2020-10-06T07:34:00.251437Z",
     "shell.execute_reply.started": "2020-10-06T07:33:55.827739Z"
    }
   },
   "outputs": [
    {
     "name": "stdout",
     "output_type": "stream",
     "text": [
      "['wikia', 5, 2.4066569972783327]\n"
     ]
    }
   ],
   "source": [
    "for c in concurrencies:\n",
    "    for x in range(repeat):\n",
    "        with Timer() as t:\n",
    "\n",
    "            dc = Connector(\"wikia\", _concurrency=c)\n",
    "\n",
    "            await dc.query(\"search\", query=\"game\", _count=1000)\n",
    "            exp1data = exp1data.append(\n",
    "                pd.Series([\"wikia\", c, t.elapsed], index=exp1data.columns),\n",
    "                ignore_index=True,\n",
    "            )\n",
    "            await asyncio.sleep(2)"
   ]
  },
  {
   "cell_type": "markdown",
   "metadata": {},
   "source": [
    "### MapQuest"
   ]
  },
  {
   "cell_type": "code",
   "execution_count": 14,
   "metadata": {
    "execution": {
     "iopub.execute_input": "2020-10-06T07:34:19.654773Z",
     "iopub.status.busy": "2020-10-06T07:34:19.654467Z",
     "iopub.status.idle": "2020-10-06T07:34:19.670439Z",
     "shell.execute_reply": "2020-10-06T07:34:19.669591Z",
     "shell.execute_reply.started": "2020-10-06T07:34:19.654742Z"
    }
   },
   "outputs": [],
   "source": [
    "mapquest_api_key = \"<your-token>\""
   ]
  },
  {
   "cell_type": "code",
   "execution_count": 15,
   "metadata": {
    "execution": {
     "iopub.execute_input": "2020-10-06T07:34:20.249498Z",
     "iopub.status.busy": "2020-10-06T07:34:20.249285Z",
     "iopub.status.idle": "2020-10-06T07:34:28.949768Z",
     "shell.execute_reply": "2020-10-06T07:34:28.948817Z",
     "shell.execute_reply.started": "2020-10-06T07:34:20.249473Z"
    }
   },
   "outputs": [
    {
     "name": "stdout",
     "output_type": "stream",
     "text": [
      "['mapquest', 5, 6.683734085410833]\n"
     ]
    }
   ],
   "source": [
    "for c in concurrencies:\n",
    "    for x in range(repeat):\n",
    "        with Timer() as t:\n",
    "\n",
    "            dc = Connector(\n",
    "                \"mapquest\",\n",
    "                _concurrency=c,\n",
    "                _auth={\"access_token\": mapquest_api_key},\n",
    "            )\n",
    "\n",
    "            await dc.query(\"place\", q=\"new york\", sort=\"relevance\", _count=500)\n",
    "            exp1data = exp1data.append(\n",
    "                pd.Series([\"mapquest\", c, t.elapsed], index=exp1data.columns),\n",
    "                ignore_index=True,\n",
    "            )\n",
    "            await asyncio.sleep(2)"
   ]
  },
  {
   "cell_type": "markdown",
   "metadata": {},
   "source": [
    "### Guardian"
   ]
  },
  {
   "cell_type": "code",
   "execution_count": null,
   "metadata": {},
   "outputs": [],
   "source": [
    "guardian_api_key = \"<your-token>\""
   ]
  },
  {
   "cell_type": "code",
   "execution_count": 19,
   "metadata": {
    "execution": {
     "iopub.execute_input": "2020-10-06T07:35:03.992583Z",
     "iopub.status.busy": "2020-10-06T07:35:03.992229Z",
     "iopub.status.idle": "2020-10-06T07:35:09.428181Z",
     "shell.execute_reply": "2020-10-06T07:35:09.427210Z",
     "shell.execute_reply.started": "2020-10-06T07:35:03.992554Z"
    }
   },
   "outputs": [
    {
     "name": "stdout",
     "output_type": "stream",
     "text": [
      "['Guardian', 5, 3.420564793050289]\n"
     ]
    }
   ],
   "source": [
    "for c in concurrencies:\n",
    "    for x in range(repeat):\n",
    "        with Timer() as t:\n",
    "\n",
    "            dc = Connector(\n",
    "                \"guardian\",\n",
    "                _concurrency=c,\n",
    "                _auth={\"access_token\": guardian_api_key},\n",
    "            )\n",
    "\n",
    "            await dc.query(\"article\", q=\"covid-19\", _count=100)\n",
    "            exp1data = exp1data.append(\n",
    "                pd.Series([\"Guardian\", c, t.elapsed], index=exp1data.columns),\n",
    "                ignore_index=True,\n",
    "            )\n",
    "            await asyncio.sleep(2)"
   ]
  },
  {
   "cell_type": "code",
   "execution_count": null,
   "metadata": {},
   "outputs": [],
   "source": [
    "scale = alt.Scale(range=[*PALETTE, \"white\", \"black\"])\n",
    "base = alt.Chart(exp1data, width=200)\n",
    "\n",
    "(\n",
    "    base.mark_bar().encode(\n",
    "        x=alt.X(\"mean(Elapsed)\", title=\"Elapsed (s)\"),\n",
    "        y=alt.Y(\"Concurrency:N\", title=None),\n",
    "        color=alt.Color(\"Concurrency:N\", legend=alt.Legend(labelFontSize=18, titleFontSize=12), scale=scale),\n",
    "    )\n",
    "    + base.mark_errorbar(color=\"black\", extent=\"ci\").encode(\n",
    "        x=alt.X(\"Elapsed\", title=\"Elapsed (s)\"),\n",
    "        y=alt.Y(\"Concurrency:N\", title=None),\n",
    "    )\n",
    "    + base.mark_text(color=\"black\", align=\"right\", dx=37, dy=1, size=16).encode(\n",
    "        x=alt.X(\"mean(Elapsed):Q\", title=\"Elapsed (s)\"),\n",
    "        y=alt.Y(\"Concurrency:N\", title=\"\"),\n",
    "        text=alt.Text(\"mean(Elapsed):Q\", format=\".1f\"),\n",
    "    )\n",
    ").facet(alt.Facet(\"API:N\", header=alt.Header(labelFontSize=18, title=None)), columns=3).resolve_scale(\n",
    "    x=\"independent\",\n",
    "    y=\"independent\"\n",
    ").configure_axis(\n",
    "    labelFontSize=16, titleFontSize=12\n",
    ")"
   ]
  },
  {
   "cell_type": "markdown",
   "metadata": {},
   "source": [
    "# Exp2"
   ]
  },
  {
   "cell_type": "code",
   "execution_count": 38,
   "metadata": {
    "execution": {
     "iopub.execute_input": "2020-10-06T07:44:19.787356Z",
     "iopub.status.busy": "2020-10-06T07:44:19.787060Z",
     "iopub.status.idle": "2020-10-06T07:44:19.807365Z",
     "shell.execute_reply": "2020-10-06T07:44:19.806382Z",
     "shell.execute_reply.started": "2020-10-06T07:44:19.787325Z"
    }
   },
   "outputs": [],
   "source": [
    "exp2data = pd.DataFrame(None, columns=[\"API\", \"Concurrency\", \"Elapsed\", \"Error Handling\", \"Quota0\", \"Quota1\"])"
   ]
  },
  {
   "cell_type": "code",
   "execution_count": null,
   "metadata": {},
   "outputs": [],
   "source": [
    "terms = [\n",
    "    \"Sushi\",\n",
    "    \"Curry\",\n",
    "    \"Taco\",\n",
    "    \"Burgers\",\n",
    "    \"Pizza\",\n",
    "    \"Salad\",\n",
    "    \"Pho\",\n",
    "    \"Ramen\",\n",
    "    \"Seafood\",\n",
    "    \"Macarons\",\n",
    "]\n",
    "locations = [\n",
    "    \"Vancouver\",\n",
    "    \"Toronto\",\n",
    "    \"New York\",\n",
    "    \"Boston\",\n",
    "    \"Chicago\",\n",
    "    \"Los Angeles\",\n",
    "    \"Seattle\",\n",
    "    \"San Francisco\",\n",
    "    \"Austin\",\n",
    "    \"Dallas\",\n",
    "]\n",
    "\n",
    "\n",
    "for c in [10, 15, 20, 30, 40, 50]:\n",
    "    for x in range(1):\n",
    "        with Timer() as t:\n",
    "            dc = Connector(\n",
    "                \"yelp\",\n",
    "                _concurrency=c,\n",
    "                _auth={\"access_token\": yelp_token},\n",
    "            )\n",
    "            qs = []\n",
    "            for term in terms:\n",
    "                for location in locations:\n",
    "                    q = dc.query(\n",
    "                        \"businesses\",\n",
    "                        term=term,\n",
    "                        location=location,\n",
    "                        _count=100,\n",
    "                    )\n",
    "                    qs.append(q)\n",
    "            await asyncio.gather(*qs)\n",
    "            exp2data = exp1data.append(\n",
    "                pd.Series([\"yelp\", c, t.elapsed, \"No\", dc.start_quota, dc.current_quota], index=exp2data.columns),\n",
    "                ignore_index=True,\n",
    "            )\n",
    "            await asyncio.sleep(2)"
   ]
  },
  {
   "cell_type": "code",
   "execution_count": null,
   "metadata": {},
   "outputs": [],
   "source": [
    "exp2data[\"consumption\"] = exp2data[\"Quota0\"].astype(int) - exp2data[\"Quota1\"].astype(int)"
   ]
  },
  {
   "cell_type": "code",
   "execution_count": null,
   "metadata": {},
   "outputs": [],
   "source": [
    "base = alt.Chart(exp2data[exp2data.Concurrency>5], height=120)\n",
    "\n",
    "\n",
    "base.mark_bar().encode(\n",
    "    x=alt.X(\"Error Handling\", title=\"\", axis=alt.Axis(labels=False)),\n",
    "    y=alt.Y(\n",
    "        \"consumption:Q\", title=\"Quota Consumption\", scale=alt.Scale(domain=[0, 1400])\n",
    "    ),\n",
    "    color=alt.Color(\n",
    "        \"Error Handling:N\", legend=alt.Legend(labelFontSize=18, titleFontSize=12), scale=alt.Scale(range=[PALETTE[1], PALETTE[3]])\n",
    "    ),\n",
    "    tooltip=[\"consumption\"],\n",
    ").facet(column=alt.Column(\"Concurrency\", title=\"Concurrency (req/s)\")).configure_axis(\n",
    "    labelFontSize=16, titleFontSize=12\n",
    ")"
   ]
  }
 ],
 "metadata": {
  "kernelspec": {
   "display_name": "DataPrep",
   "language": "python",
   "name": "dataprep"
  },
  "language_info": {
   "codemirror_mode": {
    "name": "ipython",
    "version": 3
   },
   "file_extension": ".py",
   "mimetype": "text/x-python",
   "name": "python",
   "nbconvert_exporter": "python",
   "pygments_lexer": "ipython3",
   "version": "3.8.4"
  }
 },
 "nbformat": 4,
 "nbformat_minor": 4
}
