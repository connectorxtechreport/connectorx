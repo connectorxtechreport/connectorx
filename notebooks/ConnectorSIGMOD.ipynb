{
 "cells": [
  {
   "cell_type": "code",
   "execution_count": 1,
   "metadata": {
    "execution": {
     "iopub.execute_input": "2020-10-06T07:30:22.961678Z",
     "iopub.status.busy": "2020-10-06T07:30:22.961414Z",
     "iopub.status.idle": "2020-10-06T07:30:22.975668Z",
     "shell.execute_reply": "2020-10-06T07:30:22.974765Z",
     "shell.execute_reply.started": "2020-10-06T07:30:22.961609Z"
    }
   },
   "outputs": [],
   "source": [
    "%load_ext autoreload\n",
    "%autoreload 2"
   ]
  },
  {
   "cell_type": "code",
   "execution_count": 2,
   "metadata": {
    "execution": {
     "iopub.execute_input": "2020-10-06T07:30:23.290766Z",
     "iopub.status.busy": "2020-10-06T07:30:23.290547Z",
     "iopub.status.idle": "2020-10-06T07:30:23.892293Z",
     "shell.execute_reply": "2020-10-06T07:30:23.891098Z",
     "shell.execute_reply.started": "2020-10-06T07:30:23.290740Z"
    }
   },
   "outputs": [],
   "source": [
    "import sys\n",
    "sys.path.insert(0, \"..\")\n",
    "\n",
    "import asyncio\n",
    "from time import time\n",
    "\n",
    "import altair as alt\n",
    "import numpy as np\n",
    "import pandas as pd\n",
    "from connectorx import Connector\n",
    "from contexttimer import Timer"
   ]
  },
  {
   "cell_type": "code",
   "execution_count": 36,
   "metadata": {
    "execution": {
     "iopub.execute_input": "2020-10-06T07:42:43.025230Z",
     "iopub.status.busy": "2020-10-06T07:42:43.024999Z",
     "iopub.status.idle": "2020-10-06T07:42:43.040732Z",
     "shell.execute_reply": "2020-10-06T07:42:43.040024Z",
     "shell.execute_reply.started": "2020-10-06T07:42:43.025201Z"
    }
   },
   "outputs": [],
   "source": [
    "PALETTE = [\"#bdb8ad\", \"#ece7e0\", \"#c6d4e1\", \"#44749d\"]"
   ]
  },
  {
   "cell_type": "markdown",
   "metadata": {},
   "source": [
    "# Exp1"
   ]
  },
  {
   "cell_type": "code",
   "execution_count": 23,
   "metadata": {
    "execution": {
     "iopub.execute_input": "2020-10-06T07:38:50.098594Z",
     "iopub.status.busy": "2020-10-06T07:38:50.098358Z",
     "iopub.status.idle": "2020-10-06T07:38:50.115866Z",
     "shell.execute_reply": "2020-10-06T07:38:50.114940Z",
     "shell.execute_reply.started": "2020-10-06T07:38:50.098566Z"
    }
   },
   "outputs": [],
   "source": [
    "exp1data = pd.DataFrame(data=None, columns=[\"API\", \"Concurrency\", \"Elapsed\"])"
   ]
  },
  {
   "cell_type": "code",
   "execution_count": null,
   "metadata": {},
   "outputs": [],
   "source": [
    "concurrencies = [1,3,5]\n",
    "repeat = 5"
   ]
  },
  {
   "cell_type": "markdown",
   "metadata": {},
   "source": [
    "### Yelp"
   ]
  },
  {
   "cell_type": "code",
   "execution_count": 27,
   "metadata": {
    "execution": {
     "iopub.execute_input": "2020-10-06T07:39:05.540746Z",
     "iopub.status.busy": "2020-10-06T07:39:05.540496Z",
     "iopub.status.idle": "2020-10-06T07:39:05.553105Z",
     "shell.execute_reply": "2020-10-06T07:39:05.552220Z",
     "shell.execute_reply.started": "2020-10-06T07:39:05.540720Z"
    }
   },
   "outputs": [],
   "source": [
    "yelp_token = \"<your-token>\""
   ]
  },
  {
   "cell_type": "code",
   "execution_count": 30,
   "metadata": {
    "execution": {
     "iopub.execute_input": "2020-10-06T07:40:17.744319Z",
     "iopub.status.busy": "2020-10-06T07:40:17.743974Z",
     "iopub.status.idle": "2020-10-06T07:40:22.808773Z",
     "shell.execute_reply": "2020-10-06T07:40:22.807680Z",
     "shell.execute_reply.started": "2020-10-06T07:40:17.744286Z"
    }
   },
   "outputs": [],
   "source": [
    "for c in concurrencies:\n",
    "    for x in range(repeat):\n",
    "        with Timer() as t:\n",
    "            dc = Connector(\"yelp\", _concurrency=c, _auth={\"access_token\": yelp_token})\n",
    "            await dc.query(\n",
    "                \"businesses\",\n",
    "                term=\"restaurant\",\n",
    "                location=\"vancouver\",\n",
    "                _count=500,\n",
    "            )\n",
    "\n",
    "        exp1data = exp1data.append(\n",
    "            pd.Series([\"yelp\", c, t.elapsed], index=exp1data.columns),\n",
    "            ignore_index=True,\n",
    "        )\n",
    "        await asyncio.sleep(2)"
   ]
  },
  {
   "cell_type": "markdown",
   "metadata": {},
   "source": [
    "### DBLP"
   ]
  },
  {
   "cell_type": "code",
   "execution_count": 32,
   "metadata": {
    "execution": {
     "iopub.execute_input": "2020-10-06T07:42:10.103673Z",
     "iopub.status.busy": "2020-10-06T07:42:10.103314Z",
     "iopub.status.idle": "2020-10-06T07:42:16.566483Z",
     "shell.execute_reply": "2020-10-06T07:42:16.565198Z",
     "shell.execute_reply.started": "2020-10-06T07:42:10.103639Z"
    }
   },
   "outputs": [],
   "source": [
    "for c in concurrencies:\n",
    "    for x in range(repeat):\n",
    "        with Timer() as t:\n",
    "            dc = Connector(\"dblp\", _concurrency=c)\n",
    "            await dc.query(\"publication\", q=\"AI\", _count=10000)\n",
    "            exp1data = exp1data.append(\n",
    "                pd.Series([\"dblp\", c, t.elapsed], index=exp1data.columns),\n",
    "                ignore_index=True,\n",
    "            )\n",
    "\n",
    "            await asyncio.sleep(2)"
   ]
  },
  {
   "cell_type": "markdown",
   "metadata": {},
   "source": [
    "### Spotify"
   ]
  },
  {
   "cell_type": "code",
   "execution_count": 34,
   "metadata": {
    "execution": {
     "iopub.execute_input": "2020-10-06T07:42:21.455465Z",
     "iopub.status.busy": "2020-10-06T07:42:21.455224Z",
     "iopub.status.idle": "2020-10-06T07:42:21.469298Z",
     "shell.execute_reply": "2020-10-06T07:42:21.468175Z",
     "shell.execute_reply.started": "2020-10-06T07:42:21.455437Z"
    }
   },
   "outputs": [],
   "source": [
    "spotify_client_id = \"<your-token>\"\n",
    "spotify_client_secret = \"<your-token>\""
   ]
  },
  {
   "cell_type": "code",
   "execution_count": 35,
   "metadata": {
    "execution": {
     "iopub.execute_input": "2020-10-06T07:42:21.484211Z",
     "iopub.status.busy": "2020-10-06T07:42:21.483995Z",
     "iopub.status.idle": "2020-10-06T07:42:25.782139Z",
     "shell.execute_reply": "2020-10-06T07:42:25.779908Z",
     "shell.execute_reply.started": "2020-10-06T07:42:21.484186Z"
    }
   },
   "outputs": [],
   "source": [
    "for c in concurrencies:\n",
    "    for x in range(repeat):\n",
    "        with Timer() as t:\n",
    "            dc = Connector(\n",
    "                \"spotify\",\n",
    "                _concurrency=c,\n",
    "                _auth={\n",
    "                    \"client_id\": spotify_client_id,\n",
    "                    \"client_secret\": spotify_client_secret,\n",
    "                },\n",
    "            )\n",
    "            await dc.query(\"album\", q=\"love\", _count=500)\n",
    "            exp1data = exp1data.append(\n",
    "                pd.Series([\"spotify\", c, t.elapsed], index=exp1data.columns),\n",
    "                ignore_index=True,\n",
    "            )\n",
    "            await asyncio.sleep(2)"
   ]
  },
  {
   "cell_type": "markdown",
   "metadata": {},
   "source": [
    "### Twitch"
   ]
  },
  {
   "cell_type": "code",
   "execution_count": 10,
   "metadata": {
    "execution": {
     "iopub.execute_input": "2020-10-06T07:03:36.493784Z",
     "iopub.status.busy": "2020-10-06T07:03:36.493574Z",
     "iopub.status.idle": "2020-10-06T07:03:36.505186Z",
     "shell.execute_reply": "2020-10-06T07:03:36.504544Z",
     "shell.execute_reply.started": "2020-10-06T07:03:36.493759Z"
    }
   },
   "outputs": [],
   "source": [
    "twitch_id = \"<your-token>\""
   ]
  },
  {
   "cell_type": "code",
   "execution_count": 12,
   "metadata": {
    "execution": {
     "iopub.execute_input": "2020-10-06T07:03:40.722166Z",
     "iopub.status.busy": "2020-10-06T07:03:40.721924Z",
     "iopub.status.idle": "2020-10-06T07:03:45.086587Z",
     "shell.execute_reply": "2020-10-06T07:03:45.085599Z",
     "shell.execute_reply.started": "2020-10-06T07:03:40.722138Z"
    }
   },
   "outputs": [
    {
     "name": "stdout",
     "output_type": "stream",
     "text": [
      "['twitch', 5, 2.347855629399419]\n"
     ]
    }
   ],
   "source": [
    "for c in concurrencies:\n",
    "    for x in range(repeat):\n",
    "        with Timer() as t:\n",
    "            dc = Connector(\n",
    "                \"twitch\",\n",
    "                _concurrency=c,\n",
    "                _auth={\"access_token\": twitch_id},\n",
    "            )\n",
    "\n",
    "            await dc.query(\"channels\", query=\"star\", _count=1000)\n",
    "            exp1data = exp1data.append(\n",
    "                pd.Series([\"twitch\", c, t.elapsed], index=exp1data.columns),\n",
    "                ignore_index=True,\n",
    "            )\n",
    "            await asyncio.sleep(2)"
   ]
  },
  {
   "cell_type": "markdown",
   "metadata": {},
   "source": [
    "### Bing"
   ]
  },
  {
   "cell_type": "code",
   "execution_count": 4,
   "metadata": {
    "execution": {
     "iopub.execute_input": "2020-10-06T07:30:28.600062Z",
     "iopub.status.busy": "2020-10-06T07:30:28.599848Z",
     "iopub.status.idle": "2020-10-06T07:30:28.612756Z",
     "shell.execute_reply": "2020-10-06T07:30:28.611623Z",
     "shell.execute_reply.started": "2020-10-06T07:30:28.600036Z"
    }
   },
   "outputs": [],
   "source": [
    "azure_token = \"<your-token>\""
   ]
  },
  {
   "cell_type": "code",
   "execution_count": 8,
   "metadata": {
    "execution": {
     "iopub.execute_input": "2020-10-06T07:32:38.752737Z",
     "iopub.status.busy": "2020-10-06T07:32:38.752358Z",
     "iopub.status.idle": "2020-10-06T07:32:45.887117Z",
     "shell.execute_reply": "2020-10-06T07:32:45.886125Z",
     "shell.execute_reply.started": "2020-10-06T07:32:38.752704Z"
    }
   },
   "outputs": [
    {
     "name": "stderr",
     "output_type": "stream",
     "text": [
      "Request failed, decreasing the concurrency level to 2\n"
     ]
    },
    {
     "name": "stdout",
     "output_type": "stream",
     "text": [
      "['azure', 5, 5.064618270844221]\n"
     ]
    }
   ],
   "source": [
    "for c in concurrencies:\n",
    "    for x in range(repeat):\n",
    "        with Timer() as t:\n",
    "            dc = Connector(\n",
    "                \"azure\", _concurrency=c, _auth={\"access_token\": azure_token}\n",
    "            )\n",
    "\n",
    "            await dc.query(\"bing\", q=\"people\", _count=500)\n",
    "            exp1data = exp1data.append(\n",
    "                pd.Series([\"azure\", c, t.elapsed], index=exp1data.columns),\n",
    "                ignore_index=True,\n",
    "            )\n",
    "            await asyncio.sleep(2)\n"
   ]
  },
  {
   "cell_type": "markdown",
   "metadata": {},
   "source": [
    "### Etsy"
   ]
  },
  {
   "cell_type": "code",
   "execution_count": 10,
   "metadata": {
    "execution": {
     "iopub.execute_input": "2020-10-06T07:33:33.877433Z",
     "iopub.status.busy": "2020-10-06T07:33:33.877206Z",
     "iopub.status.idle": "2020-10-06T07:33:33.890560Z",
     "shell.execute_reply": "2020-10-06T07:33:33.889791Z",
     "shell.execute_reply.started": "2020-10-06T07:33:33.877405Z"
    }
   },
   "outputs": [],
   "source": [
    "etsy_token = \"<your-token>\""
   ]
  },
  {
   "cell_type": "code",
   "execution_count": 12,
   "metadata": {
    "execution": {
     "iopub.execute_input": "2020-10-06T07:33:46.986064Z",
     "iopub.status.busy": "2020-10-06T07:33:46.985829Z",
     "iopub.status.idle": "2020-10-06T07:33:52.058462Z",
     "shell.execute_reply": "2020-10-06T07:33:52.057481Z",
     "shell.execute_reply.started": "2020-10-06T07:33:46.986035Z"
    }
   },
   "outputs": [
    {
     "name": "stdout",
     "output_type": "stream",
     "text": [
      "['etsy', 5, 3.0532836578786373]\n"
     ]
    }
   ],
   "source": [
    "for c in concurrencies:\n",
    "    for x in range(repeat):\n",
    "        with Timer() as t:\n",
    "\n",
    "            dc = Connector(\n",
    "                \"Etsy\", _concurrency=c, _auth={\"access_token\": etsy_token}\n",
    "            )\n",
    "            await dc.query(\"search\", keywords=\"ipad\", _count=250)\n",
    "            exp1data = exp1data.append(\n",
    "                pd.Series([\"etsy\", c, t.elapsed], index=exp1data.columns),\n",
    "                ignore_index=True,\n",
    "            )\n",
    "            await asyncio.sleep(2)\n"
   ]
  },
  {
   "cell_type": "markdown",
   "metadata": {},
   "source": [
    "### Wikia"
   ]
  },
  {
   "cell_type": "code",
   "execution_count": 13,
   "metadata": {
    "execution": {
     "iopub.execute_input": "2020-10-06T07:33:55.827769Z",
     "iopub.status.busy": "2020-10-06T07:33:55.827542Z",
     "iopub.status.idle": "2020-10-06T07:34:00.253591Z",
     "shell.execute_reply": "2020-10-06T07:34:00.251437Z",
     "shell.execute_reply.started": "2020-10-06T07:33:55.827739Z"
    }
   },
   "outputs": [
    {
     "name": "stdout",
     "output_type": "stream",
     "text": [
      "['wikia', 5, 2.4066569972783327]\n"
     ]
    }
   ],
   "source": [
    "for c in concurrencies:\n",
    "    for x in range(repeat):\n",
    "        with Timer() as t:\n",
    "\n",
    "            dc = Connector(\"wikia\", _concurrency=c)\n",
    "\n",
    "            await dc.query(\"search\", query=\"game\", _count=1000)\n",
    "            exp1data = exp1data.append(\n",
    "                pd.Series([\"wikia\", c, t.elapsed], index=exp1data.columns),\n",
    "                ignore_index=True,\n",
    "            )\n",
    "            await asyncio.sleep(2)"
   ]
  },
  {
   "cell_type": "markdown",
   "metadata": {},
   "source": [
    "### MapQuest"
   ]
  },
  {
   "cell_type": "code",
   "execution_count": 14,
   "metadata": {
    "execution": {
     "iopub.execute_input": "2020-10-06T07:34:19.654773Z",
     "iopub.status.busy": "2020-10-06T07:34:19.654467Z",
     "iopub.status.idle": "2020-10-06T07:34:19.670439Z",
     "shell.execute_reply": "2020-10-06T07:34:19.669591Z",
     "shell.execute_reply.started": "2020-10-06T07:34:19.654742Z"
    }
   },
   "outputs": [],
   "source": [
    "mapquest_api_key = \"<your-token>\""
   ]
  },
  {
   "cell_type": "code",
   "execution_count": 15,
   "metadata": {
    "execution": {
     "iopub.execute_input": "2020-10-06T07:34:20.249498Z",
     "iopub.status.busy": "2020-10-06T07:34:20.249285Z",
     "iopub.status.idle": "2020-10-06T07:34:28.949768Z",
     "shell.execute_reply": "2020-10-06T07:34:28.948817Z",
     "shell.execute_reply.started": "2020-10-06T07:34:20.249473Z"
    }
   },
   "outputs": [
    {
     "name": "stdout",
     "output_type": "stream",
     "text": [
      "['mapquest', 5, 6.683734085410833]\n"
     ]
    }
   ],
   "source": [
    "for c in concurrencies:\n",
    "    for x in range(repeat):\n",
    "        with Timer() as t:\n",
    "\n",
    "            dc = Connector(\n",
    "                \"mapquest\",\n",
    "                _concurrency=c,\n",
    "                _auth={\"access_token\": mapquest_api_key},\n",
    "            )\n",
    "\n",
    "            await dc.query(\"place\", q=\"new york\", sort=\"relevance\", _count=500)\n",
    "            exp1data = exp1data.append(\n",
    "                pd.Series([\"mapquest\", c, t.elapsed], index=exp1data.columns),\n",
    "                ignore_index=True,\n",
    "            )\n",
    "            await asyncio.sleep(2)"
   ]
  },
  {
   "cell_type": "markdown",
   "metadata": {},
   "source": [
    "### Guardian"
   ]
  },
  {
   "cell_type": "code",
   "execution_count": null,
   "metadata": {},
   "outputs": [],
   "source": [
    "guardian_api_key = \"<your-token>\""
   ]
  },
  {
   "cell_type": "code",
   "execution_count": 19,
   "metadata": {
    "execution": {
     "iopub.execute_input": "2020-10-06T07:35:03.992583Z",
     "iopub.status.busy": "2020-10-06T07:35:03.992229Z",
     "iopub.status.idle": "2020-10-06T07:35:09.428181Z",
     "shell.execute_reply": "2020-10-06T07:35:09.427210Z",
     "shell.execute_reply.started": "2020-10-06T07:35:03.992554Z"
    }
   },
   "outputs": [
    {
     "name": "stdout",
     "output_type": "stream",
     "text": [
      "['Guardian', 5, 3.420564793050289]\n"
     ]
    }
   ],
   "source": [
    "for c in concurrencies:\n",
    "    for x in range(repeat):\n",
    "        with Timer() as t:\n",
    "\n",
    "            dc = Connector(\n",
    "                \"guardian\",\n",
    "                _concurrency=c,\n",
    "                _auth={\"access_token\": guardian_api_key},\n",
    "            )\n",
    "\n",
    "            await dc.query(\"article\", q=\"covid-19\", _count=100)\n",
    "            exp1data = exp1data.append(\n",
    "                pd.Series([\"Guardian\", c, t.elapsed], index=exp1data.columns),\n",
    "                ignore_index=True,\n",
    "            )\n",
    "            await asyncio.sleep(2)"
   ]
  },
  {
   "cell_type": "code",
   "execution_count": 47,
   "metadata": {
    "execution": {
     "iopub.execute_input": "2020-10-07T04:08:31.135329Z",
     "iopub.status.busy": "2020-10-07T04:08:31.135112Z",
     "iopub.status.idle": "2020-10-07T04:08:31.176437Z",
     "shell.execute_reply": "2020-10-07T04:08:31.175582Z",
     "shell.execute_reply.started": "2020-10-07T04:08:31.135302Z"
    }
   },
   "outputs": [
    {
     "data": {
      "text/html": [
       "\n",
       "<div id=\"altair-viz-1474e52216d742448eae229371ab092b\"></div>\n",
       "<script type=\"text/javascript\">\n",
       "  (function(spec, embedOpt){\n",
       "    let outputDiv = document.currentScript.previousElementSibling;\n",
       "    if (outputDiv.id !== \"altair-viz-1474e52216d742448eae229371ab092b\") {\n",
       "      outputDiv = document.getElementById(\"altair-viz-1474e52216d742448eae229371ab092b\");\n",
       "    }\n",
       "    const paths = {\n",
       "      \"vega\": \"https://cdn.jsdelivr.net/npm//vega@5?noext\",\n",
       "      \"vega-lib\": \"https://cdn.jsdelivr.net/npm//vega-lib?noext\",\n",
       "      \"vega-lite\": \"https://cdn.jsdelivr.net/npm//vega-lite@4.8.1?noext\",\n",
       "      \"vega-embed\": \"https://cdn.jsdelivr.net/npm//vega-embed@6?noext\",\n",
       "    };\n",
       "\n",
       "    function loadScript(lib) {\n",
       "      return new Promise(function(resolve, reject) {\n",
       "        var s = document.createElement('script');\n",
       "        s.src = paths[lib];\n",
       "        s.async = true;\n",
       "        s.onload = () => resolve(paths[lib]);\n",
       "        s.onerror = () => reject(`Error loading script: ${paths[lib]}`);\n",
       "        document.getElementsByTagName(\"head\")[0].appendChild(s);\n",
       "      });\n",
       "    }\n",
       "\n",
       "    function showError(err) {\n",
       "      outputDiv.innerHTML = `<div class=\"error\" style=\"color:red;\">${err}</div>`;\n",
       "      throw err;\n",
       "    }\n",
       "\n",
       "    function displayChart(vegaEmbed) {\n",
       "      vegaEmbed(outputDiv, spec, embedOpt)\n",
       "        .catch(err => showError(`Javascript Error: ${err.message}<br>This usually means there's a typo in your chart specification. See the javascript console for the full traceback.`));\n",
       "    }\n",
       "\n",
       "    if(typeof define === \"function\" && define.amd) {\n",
       "      requirejs.config({paths});\n",
       "      require([\"vega-embed\"], displayChart, err => showError(`Error loading script: ${err.message}`));\n",
       "    } else if (typeof vegaEmbed === \"function\") {\n",
       "      displayChart(vegaEmbed);\n",
       "    } else {\n",
       "      loadScript(\"vega\")\n",
       "        .then(() => loadScript(\"vega-lite\"))\n",
       "        .then(() => loadScript(\"vega-embed\"))\n",
       "        .catch(showError)\n",
       "        .then(() => displayChart(vegaEmbed));\n",
       "    }\n",
       "  })({\"config\": {\"view\": {\"continuousWidth\": 400, \"continuousHeight\": 300}, \"axis\": {\"labelFontSize\": 16, \"titleFontSize\": 12}}, \"data\": {\"name\": \"data-07581639e3fd401c1457c5416b577c79\"}, \"facet\": {\"type\": \"nominal\", \"field\": \"API\", \"header\": {\"labelFontSize\": 18, \"title\": null}}, \"spec\": {\"layer\": [{\"mark\": \"bar\", \"encoding\": {\"color\": {\"type\": \"nominal\", \"field\": \"Concurrency\", \"legend\": {\"labelFontSize\": 18, \"titleFontSize\": 12}, \"scale\": {\"range\": [\"#bdb8ad\", \"#ece7e0\", \"#c6d4e1\", \"#44749d\", \"white\", \"black\"]}}, \"x\": {\"type\": \"quantitative\", \"aggregate\": \"mean\", \"field\": \"Elapsed\", \"title\": \"Elapsed (s)\"}, \"y\": {\"type\": \"nominal\", \"field\": \"Concurrency\", \"title\": null}}, \"width\": 200}, {\"mark\": {\"type\": \"errorbar\", \"color\": \"black\", \"extent\": \"ci\"}, \"encoding\": {\"x\": {\"type\": \"quantitative\", \"field\": \"Elapsed\", \"title\": \"Elapsed (s)\"}, \"y\": {\"type\": \"nominal\", \"field\": \"Concurrency\", \"title\": null}}, \"width\": 200}, {\"mark\": {\"type\": \"text\", \"align\": \"right\", \"color\": \"black\", \"dx\": 37, \"dy\": 1, \"size\": 16}, \"encoding\": {\"text\": {\"type\": \"quantitative\", \"aggregate\": \"mean\", \"field\": \"Elapsed\", \"format\": \".1f\"}, \"x\": {\"type\": \"quantitative\", \"aggregate\": \"mean\", \"field\": \"Elapsed\", \"title\": \"Elapsed (s)\"}, \"y\": {\"type\": \"nominal\", \"field\": \"Concurrency\", \"title\": \"\"}}, \"width\": 200}]}, \"columns\": 3, \"resolve\": {\"scale\": {\"x\": \"independent\", \"y\": \"independent\"}}, \"$schema\": \"https://vega.github.io/schema/vega-lite/v4.8.1.json\", \"datasets\": {\"data-07581639e3fd401c1457c5416b577c79\": [{\"API\": \"yelp\", \"Concurrency\": 1, \"Elapsed\": 14.179682025685906}, {\"API\": \"yelp\", \"Concurrency\": 1, \"Elapsed\": 14.008824214339256}, {\"API\": \"yelp\", \"Concurrency\": 1, \"Elapsed\": 14.05491684190929}, {\"API\": \"yelp\", \"Concurrency\": 1, \"Elapsed\": 13.88952653389424}, {\"API\": \"yelp\", \"Concurrency\": 1, \"Elapsed\": 14.012429820373654}, {\"API\": \"yelp\", \"Concurrency\": 1, \"Elapsed\": 13.976688688620925}, {\"API\": \"yelp\", \"Concurrency\": 1, \"Elapsed\": 13.972290825098753}, {\"API\": \"yelp\", \"Concurrency\": 1, \"Elapsed\": 14.628285740502179}, {\"API\": \"yelp\", \"Concurrency\": 1, \"Elapsed\": 13.954254471696913}, {\"API\": \"yelp\", \"Concurrency\": 1, \"Elapsed\": 14.262819005176425}, {\"API\": \"yelp\", \"Concurrency\": 3, \"Elapsed\": 5.195804719813168}, {\"API\": \"yelp\", \"Concurrency\": 3, \"Elapsed\": 5.235227924771607}, {\"API\": \"yelp\", \"Concurrency\": 3, \"Elapsed\": 5.3228723388165236}, {\"API\": \"yelp\", \"Concurrency\": 3, \"Elapsed\": 5.339692581444979}, {\"API\": \"yelp\", \"Concurrency\": 3, \"Elapsed\": 5.277059147134423}, {\"API\": \"yelp\", \"Concurrency\": 3, \"Elapsed\": 5.2887200908735394}, {\"API\": \"yelp\", \"Concurrency\": 3, \"Elapsed\": 5.340595644898713}, {\"API\": \"yelp\", \"Concurrency\": 3, \"Elapsed\": 5.237927888520062}, {\"API\": \"yelp\", \"Concurrency\": 3, \"Elapsed\": 5.227328079752624}, {\"API\": \"yelp\", \"Concurrency\": 3, \"Elapsed\": 5.227566407062113}, {\"API\": \"yelp\", \"Concurrency\": 5, \"Elapsed\": 3.2337900642305613}, {\"API\": \"yelp\", \"Concurrency\": 5, \"Elapsed\": 2.940485726110637}, {\"API\": \"yelp\", \"Concurrency\": 5, \"Elapsed\": 2.872665031813085}, {\"API\": \"yelp\", \"Concurrency\": 5, \"Elapsed\": 3.2034206921234727}, {\"API\": \"yelp\", \"Concurrency\": 5, \"Elapsed\": 2.967178991995752}, {\"API\": \"yelp\", \"Concurrency\": 5, \"Elapsed\": 2.990283027291298}, {\"API\": \"yelp\", \"Concurrency\": 5, \"Elapsed\": 2.986787812784314}, {\"API\": \"yelp\", \"Concurrency\": 5, \"Elapsed\": 3.060447405092418}, {\"API\": \"yelp\", \"Concurrency\": 5, \"Elapsed\": 3.084925184957683}, {\"API\": \"yelp\", \"Concurrency\": 5, \"Elapsed\": 2.936429977416992}, {\"API\": \"yelp\", \"Concurrency\": 10, \"Elapsed\": 2.881703579798341}, {\"API\": \"yelp\", \"Concurrency\": 10, \"Elapsed\": 2.91584662348032}, {\"API\": \"yelp\", \"Concurrency\": 10, \"Elapsed\": 2.9195441538468003}, {\"API\": \"yelp\", \"Concurrency\": 10, \"Elapsed\": 2.9031527768820524}, {\"API\": \"yelp\", \"Concurrency\": 10, \"Elapsed\": 2.8116299025714397}, {\"API\": \"yelp\", \"Concurrency\": 10, \"Elapsed\": 3.030630231834948}, {\"API\": \"yelp\", \"Concurrency\": 10, \"Elapsed\": 2.939120614901185}, {\"API\": \"yelp\", \"Concurrency\": 10, \"Elapsed\": 2.9640776198357344}, {\"API\": \"yelp\", \"Concurrency\": 10, \"Elapsed\": 2.8752689510583878}, {\"API\": \"yelp\", \"Concurrency\": 10, \"Elapsed\": 2.9749940764158964}, {\"API\": \"yelp\", \"Concurrency\": 50, \"Elapsed\": 6.4992244727909565}, {\"API\": \"yelp\", \"Concurrency\": 50, \"Elapsed\": 2.03054119925946}, {\"API\": \"yelp\", \"Concurrency\": 50, \"Elapsed\": 1.9401041073724627}, {\"API\": \"yelp\", \"Concurrency\": 50, \"Elapsed\": 2.021050396375358}, {\"API\": \"yelp\", \"Concurrency\": 50, \"Elapsed\": 2.0559617411345243}, {\"API\": \"yelp\", \"Concurrency\": 50, \"Elapsed\": 1.9469836708158255}, {\"API\": \"yelp\", \"Concurrency\": 50, \"Elapsed\": 1.9705502931028605}, {\"API\": \"yelp\", \"Concurrency\": 50, \"Elapsed\": 2.014292251318693}, {\"API\": \"yelp\", \"Concurrency\": 50, \"Elapsed\": 2.0311030112206936}, {\"API\": \"yelp\", \"Concurrency\": 50, \"Elapsed\": 1.9485283344984055}, {\"API\": \"spotify\", \"Concurrency\": 1, \"Elapsed\": 11.347984810359776}, {\"API\": \"spotify\", \"Concurrency\": 1, \"Elapsed\": 10.857230372726917}, {\"API\": \"spotify\", \"Concurrency\": 1, \"Elapsed\": 10.893378788605332}, {\"API\": \"spotify\", \"Concurrency\": 1, \"Elapsed\": 11.029291115701199}, {\"API\": \"spotify\", \"Concurrency\": 1, \"Elapsed\": 11.063852906227112}, {\"API\": \"spotify\", \"Concurrency\": 1, \"Elapsed\": 10.972963320091367}, {\"API\": \"spotify\", \"Concurrency\": 1, \"Elapsed\": 10.850438263267279}, {\"API\": \"spotify\", \"Concurrency\": 1, \"Elapsed\": 10.918399145826697}, {\"API\": \"spotify\", \"Concurrency\": 1, \"Elapsed\": 10.90561608504504}, {\"API\": \"spotify\", \"Concurrency\": 1, \"Elapsed\": 10.993105706758797}, {\"API\": \"spotify\", \"Concurrency\": 3, \"Elapsed\": 4.073320399969816}, {\"API\": \"spotify\", \"Concurrency\": 3, \"Elapsed\": 4.1259602308273315}, {\"API\": \"spotify\", \"Concurrency\": 3, \"Elapsed\": 4.0991017976775765}, {\"API\": \"spotify\", \"Concurrency\": 3, \"Elapsed\": 4.1829042006284}, {\"API\": \"spotify\", \"Concurrency\": 3, \"Elapsed\": 4.120776613242924}, {\"API\": \"spotify\", \"Concurrency\": 3, \"Elapsed\": 4.111911503598094}, {\"API\": \"spotify\", \"Concurrency\": 3, \"Elapsed\": 4.112239490263164}, {\"API\": \"spotify\", \"Concurrency\": 3, \"Elapsed\": 4.072535812854767}, {\"API\": \"spotify\", \"Concurrency\": 3, \"Elapsed\": 4.101603142917156}, {\"API\": \"spotify\", \"Concurrency\": 3, \"Elapsed\": 4.129464312456548}, {\"API\": \"spotify\", \"Concurrency\": 5, \"Elapsed\": 2.280693158507347}, {\"API\": \"spotify\", \"Concurrency\": 5, \"Elapsed\": 2.1760418554767966}, {\"API\": \"spotify\", \"Concurrency\": 5, \"Elapsed\": 2.240942630916834}, {\"API\": \"spotify\", \"Concurrency\": 5, \"Elapsed\": 2.1728637758642435}, {\"API\": \"spotify\", \"Concurrency\": 5, \"Elapsed\": 2.1779806977137923}, {\"API\": \"spotify\", \"Concurrency\": 5, \"Elapsed\": 2.130295692011714}, {\"API\": \"spotify\", \"Concurrency\": 5, \"Elapsed\": 2.185934324748814}, {\"API\": \"spotify\", \"Concurrency\": 5, \"Elapsed\": 2.235303830355406}, {\"API\": \"spotify\", \"Concurrency\": 5, \"Elapsed\": 2.3079298147931695}, {\"API\": \"spotify\", \"Concurrency\": 5, \"Elapsed\": 2.273145684041083}, {\"API\": \"spotify\", \"Concurrency\": 10, \"Elapsed\": 1.3752629291266203}, {\"API\": \"spotify\", \"Concurrency\": 10, \"Elapsed\": 1.291898532770574}, {\"API\": \"spotify\", \"Concurrency\": 10, \"Elapsed\": 1.401167486794293}, {\"API\": \"spotify\", \"Concurrency\": 10, \"Elapsed\": 1.3074258510023355}, {\"API\": \"spotify\", \"Concurrency\": 10, \"Elapsed\": 1.40870207734406}, {\"API\": \"spotify\", \"Concurrency\": 10, \"Elapsed\": 1.3730387054383755}, {\"API\": \"spotify\", \"Concurrency\": 10, \"Elapsed\": 1.353404939174652}, {\"API\": \"spotify\", \"Concurrency\": 10, \"Elapsed\": 1.3259689705446362}, {\"API\": \"spotify\", \"Concurrency\": 10, \"Elapsed\": 1.4047712795436382}, {\"API\": \"spotify\", \"Concurrency\": 10, \"Elapsed\": 1.3112591728568077}, {\"API\": \"spotify\", \"Concurrency\": 50, \"Elapsed\": 1.371051044203341}, {\"API\": \"spotify\", \"Concurrency\": 50, \"Elapsed\": 1.303200070746243}, {\"API\": \"spotify\", \"Concurrency\": 50, \"Elapsed\": 1.3998079150915146}, {\"API\": \"spotify\", \"Concurrency\": 50, \"Elapsed\": 1.2900754800066352}, {\"API\": \"spotify\", \"Concurrency\": 50, \"Elapsed\": 1.397704154253006}, {\"API\": \"spotify\", \"Concurrency\": 50, \"Elapsed\": 1.3156853644177318}, {\"API\": \"spotify\", \"Concurrency\": 50, \"Elapsed\": 1.3598356321454048}, {\"API\": \"spotify\", \"Concurrency\": 50, \"Elapsed\": 1.3436379404738545}, {\"API\": \"spotify\", \"Concurrency\": 50, \"Elapsed\": 1.3678827667608857}, {\"API\": \"spotify\", \"Concurrency\": 50, \"Elapsed\": 1.2946472577750683}, {\"API\": \"twitch\", \"Concurrency\": 1, \"Elapsed\": 10.412749811075628}, {\"API\": \"twitch\", \"Concurrency\": 1, \"Elapsed\": 10.570419686846435}, {\"API\": \"twitch\", \"Concurrency\": 1, \"Elapsed\": 9.972491616383195}, {\"API\": \"twitch\", \"Concurrency\": 1, \"Elapsed\": 10.356802079826593}, {\"API\": \"twitch\", \"Concurrency\": 1, \"Elapsed\": 10.425990395247936}, {\"API\": \"twitch\", \"Concurrency\": 1, \"Elapsed\": 10.910677200183272}, {\"API\": \"twitch\", \"Concurrency\": 1, \"Elapsed\": 10.327440706081688}, {\"API\": \"twitch\", \"Concurrency\": 1, \"Elapsed\": 10.350068009458482}, {\"API\": \"twitch\", \"Concurrency\": 1, \"Elapsed\": 10.721282181330025}, {\"API\": \"twitch\", \"Concurrency\": 1, \"Elapsed\": 10.372610651887953}, {\"API\": \"twitch\", \"Concurrency\": 3, \"Elapsed\": 3.448176878504455}, {\"API\": \"twitch\", \"Concurrency\": 3, \"Elapsed\": 3.7521772710606456}, {\"API\": \"twitch\", \"Concurrency\": 3, \"Elapsed\": 3.5437854528427124}, {\"API\": \"twitch\", \"Concurrency\": 3, \"Elapsed\": 3.4627350298687816}, {\"API\": \"twitch\", \"Concurrency\": 3, \"Elapsed\": 3.6857212716713548}, {\"API\": \"twitch\", \"Concurrency\": 3, \"Elapsed\": 3.566418587230146}, {\"API\": \"twitch\", \"Concurrency\": 3, \"Elapsed\": 3.4472611183300614}, {\"API\": \"twitch\", \"Concurrency\": 3, \"Elapsed\": 3.5364811811596155}, {\"API\": \"twitch\", \"Concurrency\": 3, \"Elapsed\": 3.59531906619668}, {\"API\": \"twitch\", \"Concurrency\": 3, \"Elapsed\": 3.4884309731423855}, {\"API\": \"twitch\", \"Concurrency\": 5, \"Elapsed\": 1.612213403917849}, {\"API\": \"twitch\", \"Concurrency\": 5, \"Elapsed\": 1.493592825718224}, {\"API\": \"twitch\", \"Concurrency\": 5, \"Elapsed\": 1.5398088665679097}, {\"API\": \"twitch\", \"Concurrency\": 5, \"Elapsed\": 1.5499826297163963}, {\"API\": \"twitch\", \"Concurrency\": 5, \"Elapsed\": 1.4842646066099405}, {\"API\": \"twitch\", \"Concurrency\": 5, \"Elapsed\": 1.4497506404295564}, {\"API\": \"twitch\", \"Concurrency\": 5, \"Elapsed\": 1.493268085643649}, {\"API\": \"twitch\", \"Concurrency\": 5, \"Elapsed\": 1.5891297841444612}, {\"API\": \"twitch\", \"Concurrency\": 5, \"Elapsed\": 1.5055854376405478}, {\"API\": \"twitch\", \"Concurrency\": 5, \"Elapsed\": 1.528707766905427}, {\"API\": \"twitch\", \"Concurrency\": 10, \"Elapsed\": 0.5364193031564355}, {\"API\": \"twitch\", \"Concurrency\": 10, \"Elapsed\": 0.5405449029058218}, {\"API\": \"twitch\", \"Concurrency\": 10, \"Elapsed\": 0.5780622093006968}, {\"API\": \"twitch\", \"Concurrency\": 10, \"Elapsed\": 0.5102041848003864}, {\"API\": \"twitch\", \"Concurrency\": 10, \"Elapsed\": 0.5304131275042892}, {\"API\": \"twitch\", \"Concurrency\": 10, \"Elapsed\": 0.5325904889032245}, {\"API\": \"twitch\", \"Concurrency\": 10, \"Elapsed\": 0.6132202595472336}, {\"API\": \"twitch\", \"Concurrency\": 10, \"Elapsed\": 0.6778975902125239}, {\"API\": \"twitch\", \"Concurrency\": 10, \"Elapsed\": 0.5017419252544641}, {\"API\": \"twitch\", \"Concurrency\": 10, \"Elapsed\": 0.5491985892876983}, {\"API\": \"twitch\", \"Concurrency\": 50, \"Elapsed\": 0.5318597378209233}, {\"API\": \"twitch\", \"Concurrency\": 50, \"Elapsed\": 0.5971272466704249}, {\"API\": \"twitch\", \"Concurrency\": 50, \"Elapsed\": 0.5129886735230684}, {\"API\": \"twitch\", \"Concurrency\": 50, \"Elapsed\": 0.535391191020608}, {\"API\": \"twitch\", \"Concurrency\": 50, \"Elapsed\": 0.5343791265040636}, {\"API\": \"twitch\", \"Concurrency\": 50, \"Elapsed\": 0.5139889540150762}, {\"API\": \"twitch\", \"Concurrency\": 50, \"Elapsed\": 0.5956769967451692}, {\"API\": \"twitch\", \"Concurrency\": 50, \"Elapsed\": 0.5160210188478231}, {\"API\": \"twitch\", \"Concurrency\": 50, \"Elapsed\": 0.5242643216624856}, {\"API\": \"twitch\", \"Concurrency\": 50, \"Elapsed\": 0.5374046629294753}, {\"API\": \"etsy\", \"Concurrency\": 1, \"Elapsed\": 16.875110113061965}, {\"API\": \"etsy\", \"Concurrency\": 1, \"Elapsed\": 16.97843248769641}, {\"API\": \"etsy\", \"Concurrency\": 1, \"Elapsed\": 17.136747813783586}, {\"API\": \"etsy\", \"Concurrency\": 1, \"Elapsed\": 17.14131049439311}, {\"API\": \"etsy\", \"Concurrency\": 1, \"Elapsed\": 17.16549443267286}, {\"API\": \"etsy\", \"Concurrency\": 1, \"Elapsed\": 16.981742227450013}, {\"API\": \"etsy\", \"Concurrency\": 1, \"Elapsed\": 16.991253146901727}, {\"API\": \"etsy\", \"Concurrency\": 1, \"Elapsed\": 16.974692525342107}, {\"API\": \"etsy\", \"Concurrency\": 1, \"Elapsed\": 16.94263492990285}, {\"API\": \"etsy\", \"Concurrency\": 1, \"Elapsed\": 17.001414901576936}, {\"API\": \"etsy\", \"Concurrency\": 3, \"Elapsed\": 6.183819571509957}, {\"API\": \"etsy\", \"Concurrency\": 3, \"Elapsed\": 6.07568936701864}, {\"API\": \"etsy\", \"Concurrency\": 3, \"Elapsed\": 6.132406899705529}, {\"API\": \"etsy\", \"Concurrency\": 3, \"Elapsed\": 6.183731683529913}, {\"API\": \"etsy\", \"Concurrency\": 3, \"Elapsed\": 6.1291200667619705}, {\"API\": \"etsy\", \"Concurrency\": 3, \"Elapsed\": 5.986082569696009}, {\"API\": \"etsy\", \"Concurrency\": 3, \"Elapsed\": 6.164539113640785}, {\"API\": \"etsy\", \"Concurrency\": 3, \"Elapsed\": 6.132528563030064}, {\"API\": \"etsy\", \"Concurrency\": 3, \"Elapsed\": 6.126702629961073}, {\"API\": \"etsy\", \"Concurrency\": 3, \"Elapsed\": 6.167168090119958}, {\"API\": \"etsy\", \"Concurrency\": 5, \"Elapsed\": 2.8010754603892565}, {\"API\": \"etsy\", \"Concurrency\": 5, \"Elapsed\": 2.777845452539623}, {\"API\": \"etsy\", \"Concurrency\": 5, \"Elapsed\": 2.882107730023563}, {\"API\": \"etsy\", \"Concurrency\": 5, \"Elapsed\": 2.7248275745660067}, {\"API\": \"etsy\", \"Concurrency\": 5, \"Elapsed\": 2.755191353149712}, {\"API\": \"etsy\", \"Concurrency\": 5, \"Elapsed\": 2.764774749055505}, {\"API\": \"etsy\", \"Concurrency\": 5, \"Elapsed\": 2.8159705083817244}, {\"API\": \"etsy\", \"Concurrency\": 5, \"Elapsed\": 2.7759427335113287}, {\"API\": \"etsy\", \"Concurrency\": 5, \"Elapsed\": 2.8707651617005467}, {\"API\": \"etsy\", \"Concurrency\": 5, \"Elapsed\": 2.774991770274937}, {\"API\": \"etsy\", \"Concurrency\": 10, \"Elapsed\": 1.2070882068946958}, {\"API\": \"etsy\", \"Concurrency\": 10, \"Elapsed\": 1.2380745662376285}, {\"API\": \"etsy\", \"Concurrency\": 10, \"Elapsed\": 1.1365160187706351}, {\"API\": \"etsy\", \"Concurrency\": 10, \"Elapsed\": 1.1783466888591647}, {\"API\": \"etsy\", \"Concurrency\": 10, \"Elapsed\": 1.1444232454523444}, {\"API\": \"etsy\", \"Concurrency\": 10, \"Elapsed\": 1.257376597262919}, {\"API\": \"etsy\", \"Concurrency\": 10, \"Elapsed\": 1.167886813171208}, {\"API\": \"etsy\", \"Concurrency\": 10, \"Elapsed\": 1.1523215612396598}, {\"API\": \"etsy\", \"Concurrency\": 10, \"Elapsed\": 1.147467684932053}, {\"API\": \"etsy\", \"Concurrency\": 10, \"Elapsed\": 1.1980079570785165}, {\"API\": \"etsy\", \"Concurrency\": 50, \"Elapsed\": 1.2431652443483472}, {\"API\": \"etsy\", \"Concurrency\": 50, \"Elapsed\": 1.1618292285129428}, {\"API\": \"etsy\", \"Concurrency\": 50, \"Elapsed\": 1.1487811906263232}, {\"API\": \"etsy\", \"Concurrency\": 50, \"Elapsed\": 1.1688910033553839}, {\"API\": \"etsy\", \"Concurrency\": 50, \"Elapsed\": 1.24830839689821}, {\"API\": \"etsy\", \"Concurrency\": 50, \"Elapsed\": 1.159299903549254}, {\"API\": \"etsy\", \"Concurrency\": 50, \"Elapsed\": 1.1815842650830746}, {\"API\": \"etsy\", \"Concurrency\": 50, \"Elapsed\": 1.1747284643352032}, {\"API\": \"etsy\", \"Concurrency\": 50, \"Elapsed\": 1.188067466020584}, {\"API\": \"etsy\", \"Concurrency\": 50, \"Elapsed\": 1.355734957382083}, {\"API\": \"azure\", \"Concurrency\": 1, \"Elapsed\": 13.23200155235827}, {\"API\": \"azure\", \"Concurrency\": 1, \"Elapsed\": 12.742579449899495}, {\"API\": \"azure\", \"Concurrency\": 1, \"Elapsed\": 12.937167539261281}, {\"API\": \"azure\", \"Concurrency\": 3, \"Elapsed\": 4.392768558114767}, {\"API\": \"azure\", \"Concurrency\": 3, \"Elapsed\": 4.585096686147153}, {\"API\": \"azure\", \"Concurrency\": 3, \"Elapsed\": 4.6920989360660315}, {\"API\": \"azure\", \"Concurrency\": 5, \"Elapsed\": 4.772818622179329}, {\"API\": \"azure\", \"Concurrency\": 5, \"Elapsed\": 2.041469040326774}, {\"API\": \"azure\", \"Concurrency\": 5, \"Elapsed\": 4.7072430942207575}, {\"API\": \"dblp\", \"Concurrency\": 1, \"Elapsed\": 18.80999597441405}, {\"API\": \"dblp\", \"Concurrency\": 1, \"Elapsed\": 18.365354082547128}, {\"API\": \"dblp\", \"Concurrency\": 1, \"Elapsed\": 18.417045957408845}, {\"API\": \"dblp\", \"Concurrency\": 1, \"Elapsed\": 18.49375898577273}, {\"API\": \"dblp\", \"Concurrency\": 1, \"Elapsed\": 18.222688863053918}, {\"API\": \"dblp\", \"Concurrency\": 3, \"Elapsed\": 6.6807401375845075}, {\"API\": \"dblp\", \"Concurrency\": 3, \"Elapsed\": 7.1008132211863995}, {\"API\": \"dblp\", \"Concurrency\": 3, \"Elapsed\": 6.702030665241182}, {\"API\": \"dblp\", \"Concurrency\": 3, \"Elapsed\": 6.615916978567839}, {\"API\": \"dblp\", \"Concurrency\": 3, \"Elapsed\": 6.574024043977261}, {\"API\": \"dblp\", \"Concurrency\": 5, \"Elapsed\": 4.122306131757796}, {\"API\": \"dblp\", \"Concurrency\": 5, \"Elapsed\": 4.311870667152107}, {\"API\": \"dblp\", \"Concurrency\": 5, \"Elapsed\": 4.162890533916652}, {\"API\": \"dblp\", \"Concurrency\": 5, \"Elapsed\": 4.283012812025845}, {\"API\": \"dblp\", \"Concurrency\": 5, \"Elapsed\": 4.3067957777529955}, {\"API\": \"wikia\", \"Concurrency\": 1, \"Elapsed\": 10.409640804864466}, {\"API\": \"wikia\", \"Concurrency\": 1, \"Elapsed\": 9.427940478548408}, {\"API\": \"wikia\", \"Concurrency\": 1, \"Elapsed\": 9.550646550953388}, {\"API\": \"wikia\", \"Concurrency\": 1, \"Elapsed\": 9.697439135983586}, {\"API\": \"wikia\", \"Concurrency\": 1, \"Elapsed\": 9.47229610197246}, {\"API\": \"wikia\", \"Concurrency\": 1, \"Elapsed\": 9.405335658229887}, {\"API\": \"wikia\", \"Concurrency\": 1, \"Elapsed\": 9.3932800386101}, {\"API\": \"wikia\", \"Concurrency\": 1, \"Elapsed\": 9.55940122064203}, {\"API\": \"wikia\", \"Concurrency\": 1, \"Elapsed\": 9.31377967633307}, {\"API\": \"wikia\", \"Concurrency\": 1, \"Elapsed\": 9.487538983114064}, {\"API\": \"wikia\", \"Concurrency\": 3, \"Elapsed\": 3.1362872757017612}, {\"API\": \"wikia\", \"Concurrency\": 3, \"Elapsed\": 3.3356408961117268}, {\"API\": \"wikia\", \"Concurrency\": 3, \"Elapsed\": 3.1548770451918244}, {\"API\": \"wikia\", \"Concurrency\": 3, \"Elapsed\": 3.155887226574123}, {\"API\": \"wikia\", \"Concurrency\": 3, \"Elapsed\": 3.3166245240718126}, {\"API\": \"wikia\", \"Concurrency\": 3, \"Elapsed\": 3.2172925658524036}, {\"API\": \"wikia\", \"Concurrency\": 3, \"Elapsed\": 3.159749461337924}, {\"API\": \"wikia\", \"Concurrency\": 3, \"Elapsed\": 3.1297732079401612}, {\"API\": \"wikia\", \"Concurrency\": 3, \"Elapsed\": 3.10847704205662}, {\"API\": \"wikia\", \"Concurrency\": 3, \"Elapsed\": 3.170811544172466}, {\"API\": \"wikia\", \"Concurrency\": 5, \"Elapsed\": 1.2245564004406333}, {\"API\": \"wikia\", \"Concurrency\": 5, \"Elapsed\": 1.2831093594431877}, {\"API\": \"wikia\", \"Concurrency\": 5, \"Elapsed\": 1.2811915278434753}, {\"API\": \"wikia\", \"Concurrency\": 5, \"Elapsed\": 1.267032716423273}, {\"API\": \"wikia\", \"Concurrency\": 5, \"Elapsed\": 2.156010783277452}, {\"API\": \"wikia\", \"Concurrency\": 5, \"Elapsed\": 1.304899181239307}, {\"API\": \"wikia\", \"Concurrency\": 5, \"Elapsed\": 1.2297487668693066}, {\"API\": \"wikia\", \"Concurrency\": 5, \"Elapsed\": 1.4535402404144406}, {\"API\": \"wikia\", \"Concurrency\": 5, \"Elapsed\": 1.3314055036753416}, {\"API\": \"wikia\", \"Concurrency\": 5, \"Elapsed\": 2.1430599549785256}]}}, {\"mode\": \"vega-lite\"});\n",
       "</script>"
      ],
      "text/plain": [
       "alt.FacetChart(...)"
      ]
     },
     "execution_count": 47,
     "metadata": {},
     "output_type": "execute_result"
    }
   ],
   "source": [
    "scale = alt.Scale(range=[*PALETTE, \"white\", \"black\"])\n",
    "base = alt.Chart(exp1data, width=200)\n",
    "\n",
    "(\n",
    "    base.mark_bar().encode(\n",
    "        x=alt.X(\"mean(Elapsed)\", title=\"Elapsed (s)\"),\n",
    "        y=alt.Y(\"Concurrency:N\", title=None),\n",
    "        color=alt.Color(\"Concurrency:N\", legend=alt.Legend(labelFontSize=18, titleFontSize=12), scale=scale),\n",
    "    )\n",
    "    + base.mark_errorbar(color=\"black\", extent=\"ci\").encode(\n",
    "        x=alt.X(\"Elapsed\", title=\"Elapsed (s)\"),\n",
    "        y=alt.Y(\"Concurrency:N\", title=None),\n",
    "    )\n",
    "    + base.mark_text(color=\"black\", align=\"right\", dx=37, dy=1, size=16).encode(\n",
    "        x=alt.X(\"mean(Elapsed):Q\", title=\"Elapsed (s)\"),\n",
    "        y=alt.Y(\"Concurrency:N\", title=\"\"),\n",
    "        text=alt.Text(\"mean(Elapsed):Q\", format=\".1f\"),\n",
    "    )\n",
    ").facet(alt.Facet(\"API:N\", header=alt.Header(labelFontSize=18, title=None)), columns=3).resolve_scale(\n",
    "    x=\"independent\",\n",
    "    y=\"independent\"\n",
    ").configure_axis(\n",
    "    labelFontSize=16, titleFontSize=12\n",
    ")"
   ]
  },
  {
   "cell_type": "markdown",
   "metadata": {},
   "source": [
    "# Exp2"
   ]
  },
  {
   "cell_type": "code",
   "execution_count": 38,
   "metadata": {
    "execution": {
     "iopub.execute_input": "2020-10-06T07:44:19.787356Z",
     "iopub.status.busy": "2020-10-06T07:44:19.787060Z",
     "iopub.status.idle": "2020-10-06T07:44:19.807365Z",
     "shell.execute_reply": "2020-10-06T07:44:19.806382Z",
     "shell.execute_reply.started": "2020-10-06T07:44:19.787325Z"
    }
   },
   "outputs": [],
   "source": [
    "exp2data = pd.DataFrame(None, columns=[\"API\", \"Concurrency\", \"Elapsed\", \"Error Handling\", \"Quota0\", \"Quota1\"])"
   ]
  },
  {
   "cell_type": "code",
   "execution_count": null,
   "metadata": {},
   "outputs": [],
   "source": [
    "terms = [\n",
    "    \"Sushi\",\n",
    "    \"Curry\",\n",
    "    \"Taco\",\n",
    "    \"Burgers\",\n",
    "    \"Pizza\",\n",
    "    \"Salad\",\n",
    "    \"Pho\",\n",
    "    \"Ramen\",\n",
    "    \"Seafood\",\n",
    "    \"Macarons\",\n",
    "]\n",
    "locations = [\n",
    "    \"Vancouver\",\n",
    "    \"Toronto\",\n",
    "    \"New York\",\n",
    "    \"Boston\",\n",
    "    \"Chicago\",\n",
    "    \"Los Angeles\",\n",
    "    \"Seattle\",\n",
    "    \"San Francisco\",\n",
    "    \"Austin\",\n",
    "    \"Dallas\",\n",
    "]\n",
    "\n",
    "\n",
    "for c in [10, 15, 20, 30, 40, 50]:\n",
    "    for x in range(1):\n",
    "        with Timer() as t:\n",
    "            dc = Connector(\n",
    "                \"yelp\",\n",
    "                _concurrency=c,\n",
    "                _auth={\"access_token\": yelp_token},\n",
    "            )\n",
    "            qs = []\n",
    "            for term in terms:\n",
    "                for location in locations:\n",
    "                    q = dc.query(\n",
    "                        \"businesses\",\n",
    "                        term=term,\n",
    "                        location=location,\n",
    "                        _count=100,\n",
    "                    )\n",
    "                    qs.append(q)\n",
    "            await asyncio.gather(*qs)\n",
    "            exp2data = exp1data.append(\n",
    "                pd.Series([\"yelp\", c, t.elapsed, \"No\", dc.start_quota, dc.current_quota], index=exp2data.columns),\n",
    "                ignore_index=True,\n",
    "            )\n",
    "            await asyncio.sleep(2)"
   ]
  },
  {
   "cell_type": "code",
   "execution_count": null,
   "metadata": {},
   "outputs": [],
   "source": [
    "exp2data[\"consumption\"] = exp2data[\"Quota0\"].astype(int) - exp2data[\"Quota1\"].astype(int)"
   ]
  },
  {
   "cell_type": "code",
   "execution_count": 52,
   "metadata": {
    "execution": {
     "iopub.execute_input": "2020-10-07T04:08:55.319100Z",
     "iopub.status.busy": "2020-10-07T04:08:55.318884Z",
     "iopub.status.idle": "2020-10-07T04:08:55.362675Z",
     "shell.execute_reply": "2020-10-07T04:08:55.361691Z",
     "shell.execute_reply.started": "2020-10-07T04:08:55.319074Z"
    }
   },
   "outputs": [
    {
     "data": {
      "text/html": [
       "\n",
       "<div id=\"altair-viz-0016cf55bbd24e77a83bdd4f689f1c39\"></div>\n",
       "<script type=\"text/javascript\">\n",
       "  (function(spec, embedOpt){\n",
       "    let outputDiv = document.currentScript.previousElementSibling;\n",
       "    if (outputDiv.id !== \"altair-viz-0016cf55bbd24e77a83bdd4f689f1c39\") {\n",
       "      outputDiv = document.getElementById(\"altair-viz-0016cf55bbd24e77a83bdd4f689f1c39\");\n",
       "    }\n",
       "    const paths = {\n",
       "      \"vega\": \"https://cdn.jsdelivr.net/npm//vega@5?noext\",\n",
       "      \"vega-lib\": \"https://cdn.jsdelivr.net/npm//vega-lib?noext\",\n",
       "      \"vega-lite\": \"https://cdn.jsdelivr.net/npm//vega-lite@4.8.1?noext\",\n",
       "      \"vega-embed\": \"https://cdn.jsdelivr.net/npm//vega-embed@6?noext\",\n",
       "    };\n",
       "\n",
       "    function loadScript(lib) {\n",
       "      return new Promise(function(resolve, reject) {\n",
       "        var s = document.createElement('script');\n",
       "        s.src = paths[lib];\n",
       "        s.async = true;\n",
       "        s.onload = () => resolve(paths[lib]);\n",
       "        s.onerror = () => reject(`Error loading script: ${paths[lib]}`);\n",
       "        document.getElementsByTagName(\"head\")[0].appendChild(s);\n",
       "      });\n",
       "    }\n",
       "\n",
       "    function showError(err) {\n",
       "      outputDiv.innerHTML = `<div class=\"error\" style=\"color:red;\">${err}</div>`;\n",
       "      throw err;\n",
       "    }\n",
       "\n",
       "    function displayChart(vegaEmbed) {\n",
       "      vegaEmbed(outputDiv, spec, embedOpt)\n",
       "        .catch(err => showError(`Javascript Error: ${err.message}<br>This usually means there's a typo in your chart specification. See the javascript console for the full traceback.`));\n",
       "    }\n",
       "\n",
       "    if(typeof define === \"function\" && define.amd) {\n",
       "      requirejs.config({paths});\n",
       "      require([\"vega-embed\"], displayChart, err => showError(`Error loading script: ${err.message}`));\n",
       "    } else if (typeof vegaEmbed === \"function\") {\n",
       "      displayChart(vegaEmbed);\n",
       "    } else {\n",
       "      loadScript(\"vega\")\n",
       "        .then(() => loadScript(\"vega-lite\"))\n",
       "        .then(() => loadScript(\"vega-embed\"))\n",
       "        .catch(showError)\n",
       "        .then(() => displayChart(vegaEmbed));\n",
       "    }\n",
       "  })({\"config\": {\"view\": {\"continuousWidth\": 400, \"continuousHeight\": 300}, \"axis\": {\"labelFontSize\": 16, \"titleFontSize\": 12}}, \"data\": {\"name\": \"data-0e1a58f14cbf39ebca8a5674370f5185\"}, \"facet\": {\"column\": {\"type\": \"quantitative\", \"field\": \"Concurrency\", \"title\": \"Concurrency (req/s)\"}}, \"spec\": {\"mark\": \"bar\", \"encoding\": {\"color\": {\"type\": \"nominal\", \"field\": \"Error Handling\", \"legend\": {\"labelFontSize\": 18, \"titleFontSize\": 12}, \"scale\": {\"range\": [\"#ece7e0\", \"#44749d\"]}}, \"tooltip\": [{\"type\": \"quantitative\", \"field\": \"consumption\"}], \"x\": {\"type\": \"nominal\", \"axis\": {\"labels\": false}, \"field\": \"Error Handling\", \"title\": \"\"}, \"y\": {\"type\": \"quantitative\", \"field\": \"consumption\", \"scale\": {\"domain\": [0, 1400]}, \"title\": \"Quota Consumption\"}}, \"height\": 120}, \"$schema\": \"https://vega.github.io/schema/vega-lite/v4.8.1.json\", \"datasets\": {\"data-0e1a58f14cbf39ebca8a5674370f5185\": [{\"API\": \"yelp\", \"Concurrency\": 20, \"Elapsed\": 75.49413898587227, \"Error Handling\": \"Yes\", \"Quota0\": \"11130\", \"Quota1\": \"10915\", \"consumption\": 215}, {\"API\": \"yelp\", \"Concurrency\": 20, \"Elapsed\": 40.38008066173643, \"Error Handling\": \"No\", \"Quota0\": \"10914\", \"Quota1\": \"10422\", \"consumption\": 492}, {\"API\": \"yelp\", \"Concurrency\": 10, \"Elapsed\": 46.47614353802055, \"Error Handling\": \"No\", \"Quota0\": \"10021\", \"Quota1\": \"9778\", \"consumption\": 243}, {\"API\": \"yelp\", \"Concurrency\": 15, \"Elapsed\": 51.06804821174592, \"Error Handling\": \"No\", \"Quota0\": \"9775\", \"Quota1\": \"9448\", \"consumption\": 327}, {\"API\": \"yelp\", \"Concurrency\": 10, \"Elapsed\": 76.92539510130882, \"Error Handling\": \"Yes\", \"Quota0\": \"8567\", \"Quota1\": \"8365\", \"consumption\": 202}, {\"API\": \"yelp\", \"Concurrency\": 15, \"Elapsed\": 94.85383526049554, \"Error Handling\": \"Yes\", \"Quota0\": \"8362\", \"Quota1\": \"8151\", \"consumption\": 211}, {\"API\": \"yelp\", \"Concurrency\": 30, \"Elapsed\": 85.50295786187053, \"Error Handling\": \"Yes\", \"Quota0\": \"8107\", \"Quota1\": \"7883\", \"consumption\": 224}, {\"API\": \"yelp\", \"Concurrency\": 40, \"Elapsed\": 66.89003755152225, \"Error Handling\": \"Yes\", \"Quota0\": \"7882\", \"Quota1\": \"7646\", \"consumption\": 236}, {\"API\": \"yelp\", \"Concurrency\": 50, \"Elapsed\": 58.76787355262786, \"Error Handling\": \"Yes\", \"Quota0\": \"7643\", \"Quota1\": \"7384\", \"consumption\": 259}, {\"API\": \"yelp\", \"Concurrency\": 50, \"Elapsed\": 39.28097581397742, \"Error Handling\": \"No\", \"Quota0\": \"7381\", \"Quota1\": \"6077\", \"consumption\": 1304}, {\"API\": \"yelp\", \"Concurrency\": 40, \"Elapsed\": 40.25383862107992, \"Error Handling\": \"No\", \"Quota0\": \"6072\", \"Quota1\": \"4961\", \"consumption\": 1111}, {\"API\": \"yelp\", \"Concurrency\": 30, \"Elapsed\": 40.103064404800534, \"Error Handling\": \"No\", \"Quota0\": \"4959\", \"Quota1\": \"4168\", \"consumption\": 791}]}}, {\"mode\": \"vega-lite\"});\n",
       "</script>"
      ],
      "text/plain": [
       "alt.FacetChart(...)"
      ]
     },
     "execution_count": 52,
     "metadata": {},
     "output_type": "execute_result"
    }
   ],
   "source": [
    "base = alt.Chart(exp2data[exp2data.Concurrency>5], height=120)\n",
    "\n",
    "\n",
    "base.mark_bar().encode(\n",
    "    x=alt.X(\"Error Handling\", title=\"\", axis=alt.Axis(labels=False)),\n",
    "    y=alt.Y(\n",
    "        \"consumption:Q\", title=\"Quota Consumption\", scale=alt.Scale(domain=[0, 1400])\n",
    "    ),\n",
    "    color=alt.Color(\n",
    "        \"Error Handling:N\", legend=alt.Legend(labelFontSize=18, titleFontSize=12), scale=alt.Scale(range=[PALETTE[1], PALETTE[3]])\n",
    "    ),\n",
    "    tooltip=[\"consumption\"],\n",
    ").facet(column=alt.Column(\"Concurrency\", title=\"Concurrency (req/s)\")).configure_axis(\n",
    "    labelFontSize=16, titleFontSize=12\n",
    ")"
   ]
  }
 ],
 "metadata": {
  "kernelspec": {
   "display_name": "DataPrep",
   "language": "python",
   "name": "dataprep"
  },
  "language_info": {
   "codemirror_mode": {
    "name": "ipython",
    "version": 3
   },
   "file_extension": ".py",
   "mimetype": "text/x-python",
   "name": "python",
   "nbconvert_exporter": "python",
   "pygments_lexer": "ipython3",
   "version": "3.8.4"
  }
 },
 "nbformat": 4,
 "nbformat_minor": 4
}
